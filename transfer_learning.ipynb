{
  "nbformat": 4,
  "nbformat_minor": 0,
  "metadata": {
    "colab": {
      "name": "transfer_learning.ipynb",
      "version": "0.3.2",
      "provenance": [],
      "collapsed_sections": [],
      "include_colab_link": true
    },
    "kernelspec": {
      "name": "python3",
      "display_name": "Python 3"
    },
    "accelerator": "GPU"
  },
  "cells": [
    {
      "cell_type": "markdown",
      "metadata": {
        "id": "view-in-github",
        "colab_type": "text"
      },
      "source": [
        "<a href=\"https://colab.research.google.com/github/Gumilevski/face_detection_with_CNNs/blob/master/transfer_learning.ipynb\" target=\"_parent\"><img src=\"https://colab.research.google.com/assets/colab-badge.svg\" alt=\"Open In Colab\"/></a>"
      ]
    },
    {
      "cell_type": "code",
      "metadata": {
        "id": "mAo9RJtDGBDD",
        "colab_type": "code",
        "outputId": "c51c1f79-a54e-4db3-b49c-7c8a3b988a95",
        "colab": {
          "base_uri": "https://localhost:8080/",
          "height": 35
        }
      },
      "source": [
        "import tensorflow as tf\n",
        "from keras import applications\n",
        "from keras.models import Sequential, load_model\n",
        "from keras.layers import Dense, Activation, Flatten, Dropout, BatchNormalization\n",
        "from keras.layers import Conv2D, MaxPooling2D, GlobalAveragePooling2D\n",
        "from keras import regularizers, optimizers, layers\n",
        "import pandas as pd\n",
        "import numpy as np\n",
        "from keras_preprocessing.image import ImageDataGenerator\n",
        "import matplotlib.pyplot as plt\n",
        "from keras.callbacks import ModelCheckpoint, LearningRateScheduler, TensorBoard, EarlyStopping"
      ],
      "execution_count": 0,
      "outputs": [
        {
          "output_type": "stream",
          "text": [
            "Using TensorFlow backend.\n"
          ],
          "name": "stderr"
        }
      ]
    },
    {
      "cell_type": "code",
      "metadata": {
        "id": "VQfqzfdXh-tx",
        "colab_type": "code",
        "outputId": "8e705601-de28-4a89-c30c-e273cd01d25e",
        "colab": {
          "base_uri": "https://localhost:8080/",
          "height": 201
        }
      },
      "source": [
        "from google.colab import drive\n",
        "import sys\n",
        "from importlib import reload\n",
        "from importlib.machinery import SourceFileLoader\n",
        "\n",
        "drive.mount('/content/drive')\n",
        "DATA_MODULE_PATH = r'/content/drive/My Drive/Colab Notebooks/face_detection/data_script.py'\n",
        "load_data_module = SourceFileLoader('data_script', DATA_MODULE_PATH).load_module()\n",
        "\n",
        "# load_data_module = reload(load_data_module)\n",
        "\n",
        "train_generator, valid_generator, test_generator = load_data_module.generate_data()"
      ],
      "execution_count": 0,
      "outputs": [
        {
          "output_type": "stream",
          "text": [
            "Go to this URL in a browser: https://accounts.google.com/o/oauth2/auth?client_id=947318989803-6bn6qk8qdgf4n4g3pfee6491hc0brc4i.apps.googleusercontent.com&redirect_uri=urn%3Aietf%3Awg%3Aoauth%3A2.0%3Aoob&scope=email%20https%3A%2F%2Fwww.googleapis.com%2Fauth%2Fdocs.test%20https%3A%2F%2Fwww.googleapis.com%2Fauth%2Fdrive%20https%3A%2F%2Fwww.googleapis.com%2Fauth%2Fdrive.photos.readonly%20https%3A%2F%2Fwww.googleapis.com%2Fauth%2Fpeopleapi.readonly&response_type=code\n",
            "\n",
            "Enter your authorization code:\n",
            "··········\n",
            "Mounted at /content/drive\n",
            "Drive already mounted at /content/drive; to attempt to forcibly remount, call drive.mount(\"/content/drive\", force_remount=True).\n",
            "Found 15857 images.\n",
            "Found 3965 images.\n",
            "Found 2000 images.\n"
          ],
          "name": "stdout"
        }
      ]
    },
    {
      "cell_type": "code",
      "metadata": {
        "id": "LexIK0-OFGho",
        "colab_type": "code",
        "outputId": "b770cb95-2138-4c83-c2e0-0ed2f49f71ce",
        "colab": {
          "base_uri": "https://localhost:8080/",
          "height": 35
        }
      },
      "source": [
        "AUX_MODULE_PATH = r'/content/drive/My Drive/Colab Notebooks/face_detection/auxiliary_methods.py'\n",
        "aux_module = SourceFileLoader('auxiliary_methods', AUX_MODULE_PATH).load_module()\n",
        "%cd /content/drive/My\\ Drive/Colab\\ Notebooks/face_detection/models"
      ],
      "execution_count": 0,
      "outputs": [
        {
          "output_type": "stream",
          "text": [
            "/content/drive/My Drive/Colab Notebooks/face_detection/models\n"
          ],
          "name": "stdout"
        }
      ]
    },
    {
      "cell_type": "code",
      "metadata": {
        "id": "ZjHSEhoIiKuE",
        "colab_type": "code",
        "outputId": "9230e171-8a24-4bff-bdba-fdda229d6fc6",
        "colab": {
          "base_uri": "https://localhost:8080/",
          "height": 472
        }
      },
      "source": [
        "base_model = applications.VGG16(weights = \"imagenet\", include_top=False, \n",
        "                                      input_shape = (256, 256, 3))\n",
        "base_model.trainable = False\n",
        "\n",
        "model = Sequential()\n",
        "model.add(base_model)\n",
        "model.add(GlobalAveragePooling2D())\n",
        "model.add(Dense(1024))\n",
        "model.add(Dropout(0.5))\n",
        "model.add(Activation('relu'))\n",
        "model.add(Dense(128))\n",
        "model.add(Activation('relu'))\n",
        "model.add(Dense(4, activation='linear'))\n",
        "\n",
        "model.compile(optimizers.Adam(lr=4e-5), loss='mean_squared_error', metrics=['accuracy'])\n",
        "\n",
        "model.summary()"
      ],
      "execution_count": 0,
      "outputs": [
        {
          "output_type": "stream",
          "text": [
            "Downloading data from https://github.com/fchollet/deep-learning-models/releases/download/v0.1/vgg16_weights_tf_dim_ordering_tf_kernels_notop.h5\n",
            "58892288/58889256 [==============================] - 1s 0us/step\n",
            "_________________________________________________________________\n",
            "Layer (type)                 Output Shape              Param #   \n",
            "=================================================================\n",
            "vgg16 (Model)                (None, 8, 8, 512)         14714688  \n",
            "_________________________________________________________________\n",
            "global_average_pooling2d_3 ( (None, 512)               0         \n",
            "_________________________________________________________________\n",
            "dense_7 (Dense)              (None, 1024)              525312    \n",
            "_________________________________________________________________\n",
            "dropout_3 (Dropout)          (None, 1024)              0         \n",
            "_________________________________________________________________\n",
            "activation_193 (Activation)  (None, 1024)              0         \n",
            "_________________________________________________________________\n",
            "dense_8 (Dense)              (None, 128)               131200    \n",
            "_________________________________________________________________\n",
            "activation_194 (Activation)  (None, 128)               0         \n",
            "_________________________________________________________________\n",
            "dense_9 (Dense)              (None, 4)                 516       \n",
            "=================================================================\n",
            "Total params: 15,371,716\n",
            "Trainable params: 657,028\n",
            "Non-trainable params: 14,714,688\n",
            "_________________________________________________________________\n"
          ],
          "name": "stdout"
        }
      ]
    },
    {
      "cell_type": "code",
      "metadata": {
        "id": "A0IBcpXJ3C06",
        "colab_type": "code",
        "outputId": "55e87668-e56b-450f-ea53-076374f08b6a",
        "colab": {
          "base_uri": "https://localhost:8080/",
          "height": 2755
        }
      },
      "source": [
        "STEP_SIZE_TRAIN = train_generator.n//train_generator.batch_size\n",
        "STEP_SIZE_VALID = valid_generator.n//valid_generator.batch_size\n",
        "STEP_SIZE_TEST = test_generator.n//test_generator.batch_size\n",
        "\n",
        "checkpoint = ModelCheckpoint(\"tl_weights_train_fc.h5\", monitor='val_loss', verbose=1, \n",
        "                             save_best_only=True, save_weights_only=False)\n",
        "early = EarlyStopping(monitor='val_loss', verbose=1, patience = 15)\n",
        "\n",
        "history = model.fit_generator(generator=train_generator,\n",
        "                              steps_per_epoch=STEP_SIZE_TRAIN,\n",
        "                              validation_data=valid_generator,\n",
        "                              validation_steps=STEP_SIZE_VALID,\n",
        "                              epochs=30, callbacks=[early, checkpoint]\n",
        ")\n",
        "\n",
        "aux_module.plot_results(history)"
      ],
      "execution_count": 0,
      "outputs": [
        {
          "output_type": "stream",
          "text": [
            "Epoch 1/30\n",
            "247/247 [==============================] - 450s 2s/step - loss: 12899.5978 - acc: 0.6937 - val_loss: 6816.9832 - val_acc: 0.7320\n",
            "\n",
            "Epoch 00001: val_loss improved from inf to 6816.98322, saving model to tl_weights_train_fc.h5\n",
            "Epoch 2/30\n",
            "247/247 [==============================] - 429s 2s/step - loss: 2868.4417 - acc: 0.7215 - val_loss: 1505.3712 - val_acc: 0.7335\n",
            "\n",
            "Epoch 00002: val_loss improved from 6816.98322 to 1505.37115, saving model to tl_weights_train_fc.h5\n",
            "Epoch 3/30\n",
            "247/247 [==============================] - 427s 2s/step - loss: 1530.6435 - acc: 0.7216 - val_loss: 1437.6688 - val_acc: 0.7374\n",
            "\n",
            "Epoch 00003: val_loss improved from 1505.37115 to 1437.66884, saving model to tl_weights_train_fc.h5\n",
            "Epoch 4/30\n",
            "247/247 [==============================] - 432s 2s/step - loss: 1469.9021 - acc: 0.7236 - val_loss: 1373.2713 - val_acc: 0.7394\n",
            "\n",
            "Epoch 00004: val_loss improved from 1437.66884 to 1373.27131, saving model to tl_weights_train_fc.h5\n",
            "Epoch 5/30\n",
            "247/247 [==============================] - 427s 2s/step - loss: 1401.5777 - acc: 0.7230 - val_loss: 1306.9374 - val_acc: 0.7312\n",
            "\n",
            "Epoch 00005: val_loss improved from 1373.27131 to 1306.93740, saving model to tl_weights_train_fc.h5\n",
            "Epoch 6/30\n",
            "247/247 [==============================] - 428s 2s/step - loss: 1324.7234 - acc: 0.7238 - val_loss: 1218.7261 - val_acc: 0.7389\n",
            "\n",
            "Epoch 00006: val_loss improved from 1306.93740 to 1218.72612, saving model to tl_weights_train_fc.h5\n",
            "Epoch 7/30\n",
            "247/247 [==============================] - 430s 2s/step - loss: 1241.7240 - acc: 0.7227 - val_loss: 1132.8627 - val_acc: 0.7371\n",
            "\n",
            "Epoch 00007: val_loss improved from 1218.72612 to 1132.86268, saving model to tl_weights_train_fc.h5\n",
            "Epoch 8/30\n",
            "247/247 [==============================] - 431s 2s/step - loss: 1167.8800 - acc: 0.7218 - val_loss: 1072.8986 - val_acc: 0.7346\n",
            "\n",
            "Epoch 00008: val_loss improved from 1132.86268 to 1072.89857, saving model to tl_weights_train_fc.h5\n",
            "Epoch 9/30\n",
            "247/247 [==============================] - 427s 2s/step - loss: 1101.2378 - acc: 0.7197 - val_loss: 1010.6376 - val_acc: 0.7340\n",
            "\n",
            "Epoch 00009: val_loss improved from 1072.89857 to 1010.63757, saving model to tl_weights_train_fc.h5\n",
            "Epoch 10/30\n",
            "247/247 [==============================] - 431s 2s/step - loss: 1030.0978 - acc: 0.7237 - val_loss: 963.7088 - val_acc: 0.7376\n",
            "\n",
            "Epoch 00010: val_loss improved from 1010.63757 to 963.70884, saving model to tl_weights_train_fc.h5\n",
            "Epoch 11/30\n",
            "247/247 [==============================] - 427s 2s/step - loss: 988.5253 - acc: 0.7217 - val_loss: 927.8746 - val_acc: 0.7370\n",
            "\n",
            "Epoch 00011: val_loss improved from 963.70884 to 927.87464, saving model to tl_weights_train_fc.h5\n",
            "Epoch 12/30\n",
            "247/247 [==============================] - 430s 2s/step - loss: 972.7850 - acc: 0.7279 - val_loss: 905.6725 - val_acc: 0.7374\n",
            "\n",
            "Epoch 00012: val_loss improved from 927.87464 to 905.67252, saving model to tl_weights_train_fc.h5\n",
            "Epoch 13/30\n",
            "247/247 [==============================] - 435s 2s/step - loss: 935.4371 - acc: 0.7361 - val_loss: 884.1301 - val_acc: 0.7551\n",
            "\n",
            "Epoch 00013: val_loss improved from 905.67252 to 884.13006, saving model to tl_weights_train_fc.h5\n",
            "Epoch 14/30\n",
            "247/247 [==============================] - 426s 2s/step - loss: 903.8939 - acc: 0.7444 - val_loss: 861.3292 - val_acc: 0.7742\n",
            "\n",
            "Epoch 00014: val_loss improved from 884.13006 to 861.32923, saving model to tl_weights_train_fc.h5\n",
            "Epoch 15/30\n",
            "247/247 [==============================] - 432s 2s/step - loss: 898.9501 - acc: 0.7594 - val_loss: 858.4458 - val_acc: 0.7879\n",
            "\n",
            "Epoch 00015: val_loss improved from 861.32923 to 858.44581, saving model to tl_weights_train_fc.h5\n",
            "Epoch 16/30\n",
            "247/247 [==============================] - 426s 2s/step - loss: 873.7856 - acc: 0.7639 - val_loss: 833.4753 - val_acc: 0.7907\n",
            "\n",
            "Epoch 00016: val_loss improved from 858.44581 to 833.47526, saving model to tl_weights_train_fc.h5\n",
            "Epoch 17/30\n",
            "247/247 [==============================] - 434s 2s/step - loss: 874.1681 - acc: 0.7691 - val_loss: 834.6819 - val_acc: 0.7971\n",
            "\n",
            "Epoch 00017: val_loss did not improve from 833.47526\n",
            "Epoch 18/30\n",
            "247/247 [==============================] - 433s 2s/step - loss: 846.2923 - acc: 0.7761 - val_loss: 821.1703 - val_acc: 0.7971\n",
            "\n",
            "Epoch 00018: val_loss improved from 833.47526 to 821.17026, saving model to tl_weights_train_fc.h5\n",
            "Epoch 19/30\n",
            "247/247 [==============================] - 434s 2s/step - loss: 844.2693 - acc: 0.7831 - val_loss: 812.9180 - val_acc: 0.7966\n",
            "\n",
            "Epoch 00019: val_loss improved from 821.17026 to 812.91803, saving model to tl_weights_train_fc.h5\n",
            "Epoch 20/30\n",
            "247/247 [==============================] - 432s 2s/step - loss: 834.6700 - acc: 0.7811 - val_loss: 813.0581 - val_acc: 0.8063\n",
            "\n",
            "Epoch 00020: val_loss did not improve from 812.91803\n",
            "Epoch 21/30\n",
            "247/247 [==============================] - 435s 2s/step - loss: 833.4643 - acc: 0.7866 - val_loss: 788.9856 - val_acc: 0.8042\n",
            "\n",
            "Epoch 00021: val_loss improved from 812.91803 to 788.98556, saving model to tl_weights_train_fc.h5\n",
            "Epoch 22/30\n",
            "247/247 [==============================] - 431s 2s/step - loss: 813.0010 - acc: 0.7916 - val_loss: 809.3522 - val_acc: 0.8057\n",
            "\n",
            "Epoch 00022: val_loss did not improve from 788.98556\n",
            "Epoch 23/30\n",
            "247/247 [==============================] - 423s 2s/step - loss: 821.6555 - acc: 0.7903 - val_loss: 788.9640 - val_acc: 0.8017\n",
            "\n",
            "Epoch 00023: val_loss improved from 788.98556 to 788.96402, saving model to tl_weights_train_fc.h5\n",
            "Epoch 24/30\n",
            "247/247 [==============================] - 436s 2s/step - loss: 805.2306 - acc: 0.7953 - val_loss: 784.9382 - val_acc: 0.8098\n",
            "\n",
            "Epoch 00024: val_loss improved from 788.96402 to 784.93821, saving model to tl_weights_train_fc.h5\n",
            "Epoch 25/30\n",
            "247/247 [==============================] - 437s 2s/step - loss: 807.1214 - acc: 0.7898 - val_loss: 771.6412 - val_acc: 0.8060\n",
            "\n",
            "Epoch 00025: val_loss improved from 784.93821 to 771.64122, saving model to tl_weights_train_fc.h5\n",
            "Epoch 26/30\n",
            "247/247 [==============================] - 424s 2s/step - loss: 800.5644 - acc: 0.7966 - val_loss: 773.3152 - val_acc: 0.8118\n",
            "\n",
            "Epoch 00026: val_loss did not improve from 771.64122\n",
            "Epoch 27/30\n",
            "247/247 [==============================] - 434s 2s/step - loss: 784.4423 - acc: 0.7959 - val_loss: 768.5660 - val_acc: 0.8047\n",
            "\n",
            "Epoch 00027: val_loss improved from 771.64122 to 768.56600, saving model to tl_weights_train_fc.h5\n",
            "Epoch 28/30\n",
            "247/247 [==============================] - 428s 2s/step - loss: 794.3504 - acc: 0.7912 - val_loss: 782.2669 - val_acc: 0.8111\n",
            "\n",
            "Epoch 00028: val_loss did not improve from 768.56600\n",
            "Epoch 29/30\n",
            "247/247 [==============================] - 426s 2s/step - loss: 784.2087 - acc: 0.7956 - val_loss: 756.9254 - val_acc: 0.8073\n",
            "\n",
            "Epoch 00029: val_loss improved from 768.56600 to 756.92543, saving model to tl_weights_train_fc.h5\n",
            "Epoch 30/30\n",
            "247/247 [==============================] - 433s 2s/step - loss: 782.6388 - acc: 0.7979 - val_loss: 754.3621 - val_acc: 0.8085\n",
            "\n",
            "Epoch 00030: val_loss improved from 756.92543 to 754.36205, saving model to tl_weights_train_fc.h5\n"
          ],
          "name": "stdout"
        },
        {
          "output_type": "display_data",
          "data": {
            "image/png": "[encoded data removed]",
            "text/plain": [
              "<Figure size 432x288 with 1 Axes>"
            ]
          },
          "metadata": {
            "tags": []
          }
        },
        {
          "output_type": "display_data",
          "data": {
            "image/png": "[encoded data removed]",
            "text/plain": [
              "<Figure size 432x288 with 1 Axes>"
            ]
          },
          "metadata": {
            "tags": []
          }
        }
      ]
    },
    {
      "cell_type": "code",
      "metadata": {
        "id": "7tqByQUlOHhH",
        "colab_type": "code",
        "outputId": "0e882aed-718f-4087-bf3d-1d68a344830e",
        "colab": {
          "base_uri": "https://localhost:8080/",
          "height": 601
        }
      },
      "source": [
        "base_model = applications.VGG16(weights = \"imagenet\", include_top=False, \n",
        "                                 input_shape = (256, 256, 3))\n",
        "base_model.trainable = False\n",
        "\n",
        "model = Sequential()\n",
        "model.add(base_model)\n",
        "model.add(GlobalAveragePooling2D())\n",
        "model.add(Dense(1024))\n",
        "model.add(Dropout(0.5))\n",
        "model.add(Activation('relu'))\n",
        "model.add(Dense(128))\n",
        "model.add(Activation('relu'))\n",
        "model.add(Dense(4, activation='linear'))\n",
        "\n",
        "model.compile(optimizers.Adam(lr=1e-5), loss='mean_squared_error', metrics=['accuracy'])\n",
        "model.summary()\n",
        "\n",
        "from keras.models import model_from_json\n",
        "model.load_weights('tl_weights_train_fc.h5')"
      ],
      "execution_count": 0,
      "outputs": [
        {
          "output_type": "stream",
          "text": [
            "WARNING:tensorflow:From /usr/local/lib/python3.6/dist-packages/tensorflow/python/framework/op_def_library.py:263: colocate_with (from tensorflow.python.framework.ops) is deprecated and will be removed in a future version.\n",
            "Instructions for updating:\n",
            "Colocations handled automatically by placer.\n",
            "Downloading data from https://github.com/fchollet/deep-learning-models/releases/download/v0.1/vgg16_weights_tf_dim_ordering_tf_kernels_notop.h5\n",
            "58892288/58889256 [==============================] - 1s 0us/step\n",
            "WARNING:tensorflow:From /usr/local/lib/python3.6/dist-packages/keras/backend/tensorflow_backend.py:3445: calling dropout (from tensorflow.python.ops.nn_ops) with keep_prob is deprecated and will be removed in a future version.\n",
            "Instructions for updating:\n",
            "Please use `rate` instead of `keep_prob`. Rate should be set to `rate = 1 - keep_prob`.\n",
            "_________________________________________________________________\n",
            "Layer (type)                 Output Shape              Param #   \n",
            "=================================================================\n",
            "vgg16 (Model)                (None, 8, 8, 512)         14714688  \n",
            "_________________________________________________________________\n",
            "global_average_pooling2d_1 ( (None, 512)               0         \n",
            "_________________________________________________________________\n",
            "dense_1 (Dense)              (None, 1024)              525312    \n",
            "_________________________________________________________________\n",
            "dropout_1 (Dropout)          (None, 1024)              0         \n",
            "_________________________________________________________________\n",
            "activation_1 (Activation)    (None, 1024)              0         \n",
            "_________________________________________________________________\n",
            "dense_2 (Dense)              (None, 128)               131200    \n",
            "_________________________________________________________________\n",
            "activation_2 (Activation)    (None, 128)               0         \n",
            "_________________________________________________________________\n",
            "dense_3 (Dense)              (None, 4)                 516       \n",
            "=================================================================\n",
            "Total params: 15,371,716\n",
            "Trainable params: 657,028\n",
            "Non-trainable params: 14,714,688\n",
            "_________________________________________________________________\n"
          ],
          "name": "stdout"
        }
      ]
    },
    {
      "cell_type": "code",
      "metadata": {
        "id": "7YTC2A9ru8OC",
        "colab_type": "code",
        "outputId": "1f5e4501-e31c-49d8-eb86-a844df823a6c",
        "colab": {
          "base_uri": "https://localhost:8080/",
          "height": 435
        }
      },
      "source": [
        "base_model.trainable = True\n",
        "\n",
        "trainable = False\n",
        "for layer in base_model.layers:\n",
        "    if layer.name == 'block5_conv1':\n",
        "        trainable = True\n",
        "    layer.trainable = trainable\n",
        "    \n",
        "\n",
        "model.compile(optimizers.Adam(lr=1e-5), loss='mean_squared_error', \n",
        "              metrics=['accuracy'])\n",
        "\n",
        "model.summary()"
      ],
      "execution_count": 0,
      "outputs": [
        {
          "output_type": "stream",
          "text": [
            "_________________________________________________________________\n",
            "Layer (type)                 Output Shape              Param #   \n",
            "=================================================================\n",
            "vgg16 (Model)                (None, 8, 8, 512)         14714688  \n",
            "_________________________________________________________________\n",
            "global_average_pooling2d_1 ( (None, 512)               0         \n",
            "_________________________________________________________________\n",
            "dense_1 (Dense)              (None, 1024)              525312    \n",
            "_________________________________________________________________\n",
            "dropout_1 (Dropout)          (None, 1024)              0         \n",
            "_________________________________________________________________\n",
            "activation_1 (Activation)    (None, 1024)              0         \n",
            "_________________________________________________________________\n",
            "dense_2 (Dense)              (None, 128)               131200    \n",
            "_________________________________________________________________\n",
            "activation_2 (Activation)    (None, 128)               0         \n",
            "_________________________________________________________________\n",
            "dense_3 (Dense)              (None, 4)                 516       \n",
            "=================================================================\n",
            "Total params: 15,371,716\n",
            "Trainable params: 7,736,452\n",
            "Non-trainable params: 7,635,264\n",
            "_________________________________________________________________\n"
          ],
          "name": "stdout"
        }
      ]
    },
    {
      "cell_type": "code",
      "metadata": {
        "id": "uxVDk97oIME-",
        "colab_type": "code",
        "outputId": "d60da548-1577-40b0-ce87-4a9edb5f4234",
        "colab": {
          "base_uri": "https://localhost:8080/",
          "height": 4080
        }
      },
      "source": [
        "STEP_SIZE_TRAIN = train_generator.n//train_generator.batch_size\n",
        "STEP_SIZE_VALID = valid_generator.n//valid_generator.batch_size\n",
        "STEP_SIZE_TEST = test_generator.n//test_generator.batch_size\n",
        "\n",
        "new_checkpoint = ModelCheckpoint(\"tl_weights_fine_tuned.h5\", monitor='val_loss', verbose=1, \n",
        "                             save_best_only=True, save_weights_only=False)\n",
        "new_early = EarlyStopping(monitor='val_loss', verbose=1, patience = 15)\n",
        "\n",
        "new_history = model.fit_generator(generator=train_generator,\n",
        "                              steps_per_epoch=STEP_SIZE_TRAIN,\n",
        "                              validation_data=valid_generator,\n",
        "                              validation_steps=STEP_SIZE_VALID,\n",
        "                              epochs=60, callbacks=[new_early, new_checkpoint]\n",
        ")\n",
        "\n",
        "aux_module.plot_results(history)"
      ],
      "execution_count": 0,
      "outputs": [
        {
          "output_type": "stream",
          "text": [
            "Epoch 1/60\n",
            "247/247 [==============================] - 4990s 20s/step - loss: 709.5216 - acc: 0.8108 - val_loss: 633.1625 - val_acc: 0.8312\n",
            "\n",
            "Epoch 00001: val_loss improved from inf to 633.16252, saving model to tl_weights_fine_tuned.h5\n",
            "Epoch 2/60\n",
            "247/247 [==============================] - 330s 1s/step - loss: 616.3192 - acc: 0.8317 - val_loss: 575.6575 - val_acc: 0.8408\n",
            "\n",
            "Epoch 00002: val_loss improved from 633.16252 to 575.65752, saving model to tl_weights_fine_tuned.h5\n",
            "Epoch 3/60\n",
            "247/247 [==============================] - 320s 1s/step - loss: 552.6519 - acc: 0.8442 - val_loss: 515.0303 - val_acc: 0.8528\n",
            "\n",
            "Epoch 00003: val_loss improved from 575.65752 to 515.03028, saving model to tl_weights_fine_tuned.h5\n",
            "Epoch 4/60\n",
            "247/247 [==============================] - 323s 1s/step - loss: 501.8739 - acc: 0.8591 - val_loss: 477.8334 - val_acc: 0.8686\n",
            "\n",
            "Epoch 00004: val_loss improved from 515.03028 to 477.83339, saving model to tl_weights_fine_tuned.h5\n",
            "Epoch 5/60\n",
            "247/247 [==============================] - 319s 1s/step - loss: 467.2534 - acc: 0.8669 - val_loss: 452.4696 - val_acc: 0.8675\n",
            "\n",
            "Epoch 00005: val_loss improved from 477.83339 to 452.46964, saving model to tl_weights_fine_tuned.h5\n",
            "Epoch 6/60\n",
            "247/247 [==============================] - 319s 1s/step - loss: 432.9884 - acc: 0.8740 - val_loss: 423.2298 - val_acc: 0.8777\n",
            "\n",
            "Epoch 00006: val_loss improved from 452.46964 to 423.22984, saving model to tl_weights_fine_tuned.h5\n",
            "Epoch 7/60\n",
            "247/247 [==============================] - 318s 1s/step - loss: 409.3026 - acc: 0.8784 - val_loss: 417.7841 - val_acc: 0.8805\n",
            "\n",
            "Epoch 00007: val_loss improved from 423.22984 to 417.78409, saving model to tl_weights_fine_tuned.h5\n",
            "Epoch 8/60\n",
            "247/247 [==============================] - 315s 1s/step - loss: 385.5285 - acc: 0.8812 - val_loss: 400.4368 - val_acc: 0.8818\n",
            "\n",
            "Epoch 00008: val_loss improved from 417.78409 to 400.43677, saving model to tl_weights_fine_tuned.h5\n",
            "Epoch 9/60\n",
            "247/247 [==============================] - 312s 1s/step - loss: 371.7420 - acc: 0.8866 - val_loss: 417.8734 - val_acc: 0.8792\n",
            "\n",
            "Epoch 00009: val_loss did not improve from 400.43677\n",
            "Epoch 10/60\n",
            "247/247 [==============================] - 311s 1s/step - loss: 352.4769 - acc: 0.8871 - val_loss: 386.8763 - val_acc: 0.8851\n",
            "\n",
            "Epoch 00010: val_loss improved from 400.43677 to 386.87630, saving model to tl_weights_fine_tuned.h5\n",
            "Epoch 11/60\n",
            "247/247 [==============================] - 312s 1s/step - loss: 340.1582 - acc: 0.8913 - val_loss: 383.1609 - val_acc: 0.8863\n",
            "\n",
            "Epoch 00011: val_loss improved from 386.87630 to 383.16086, saving model to tl_weights_fine_tuned.h5\n",
            "Epoch 12/60\n",
            "247/247 [==============================] - 314s 1s/step - loss: 324.8133 - acc: 0.8916 - val_loss: 368.9175 - val_acc: 0.8858\n",
            "\n",
            "Epoch 00012: val_loss improved from 383.16086 to 368.91754, saving model to tl_weights_fine_tuned.h5\n",
            "Epoch 13/60\n",
            "247/247 [==============================] - 319s 1s/step - loss: 316.2153 - acc: 0.8950 - val_loss: 360.1451 - val_acc: 0.8772\n",
            "\n",
            "Epoch 00013: val_loss improved from 368.91754 to 360.14510, saving model to tl_weights_fine_tuned.h5\n",
            "Epoch 14/60\n",
            "247/247 [==============================] - 320s 1s/step - loss: 301.5368 - acc: 0.8965 - val_loss: 359.6546 - val_acc: 0.8904\n",
            "\n",
            "Epoch 00014: val_loss improved from 360.14510 to 359.65459, saving model to tl_weights_fine_tuned.h5\n",
            "Epoch 15/60\n",
            "247/247 [==============================] - 320s 1s/step - loss: 292.9674 - acc: 0.9001 - val_loss: 349.4860 - val_acc: 0.8787\n",
            "\n",
            "Epoch 00015: val_loss improved from 359.65459 to 349.48600, saving model to tl_weights_fine_tuned.h5\n",
            "Epoch 16/60\n",
            "247/247 [==============================] - 319s 1s/step - loss: 276.9614 - acc: 0.9008 - val_loss: 358.1192 - val_acc: 0.8642\n",
            "\n",
            "Epoch 00016: val_loss did not improve from 349.48600\n",
            "Epoch 17/60\n",
            "247/247 [==============================] - 320s 1s/step - loss: 271.9325 - acc: 0.9026 - val_loss: 363.1115 - val_acc: 0.8932\n",
            "\n",
            "Epoch 00017: val_loss did not improve from 349.48600\n",
            "Epoch 18/60\n",
            "247/247 [==============================] - 320s 1s/step - loss: 267.7032 - acc: 0.9045 - val_loss: 341.7884 - val_acc: 0.8785\n",
            "\n",
            "Epoch 00018: val_loss improved from 349.48600 to 341.78842, saving model to tl_weights_fine_tuned.h5\n",
            "Epoch 19/60\n",
            "247/247 [==============================] - 319s 1s/step - loss: 254.1326 - acc: 0.9072 - val_loss: 326.8799 - val_acc: 0.8899\n",
            "\n",
            "Epoch 00019: val_loss improved from 341.78842 to 326.87990, saving model to tl_weights_fine_tuned.h5\n",
            "Epoch 20/60\n",
            "247/247 [==============================] - 322s 1s/step - loss: 247.0890 - acc: 0.9095 - val_loss: 344.5782 - val_acc: 0.8863\n",
            "\n",
            "Epoch 00020: val_loss did not improve from 326.87990\n",
            "Epoch 21/60\n",
            "247/247 [==============================] - 321s 1s/step - loss: 237.5632 - acc: 0.9096 - val_loss: 338.6563 - val_acc: 0.8952\n",
            "\n",
            "Epoch 00021: val_loss did not improve from 326.87990\n",
            "Epoch 22/60\n",
            "247/247 [==============================] - 321s 1s/step - loss: 231.2506 - acc: 0.9075 - val_loss: 333.2984 - val_acc: 0.8963\n",
            "\n",
            "Epoch 00022: val_loss did not improve from 326.87990\n",
            "Epoch 23/60\n",
            "247/247 [==============================] - 319s 1s/step - loss: 222.4868 - acc: 0.9094 - val_loss: 338.4817 - val_acc: 0.8996\n",
            "\n",
            "Epoch 00023: val_loss did not improve from 326.87990\n",
            "Epoch 24/60\n",
            "247/247 [==============================] - 313s 1s/step - loss: 215.9142 - acc: 0.9110 - val_loss: 334.7549 - val_acc: 0.8912\n",
            "\n",
            "Epoch 00024: val_loss did not improve from 326.87990\n",
            "Epoch 25/60\n",
            "247/247 [==============================] - 312s 1s/step - loss: 215.2757 - acc: 0.9142 - val_loss: 323.4314 - val_acc: 0.8932\n",
            "\n",
            "Epoch 00025: val_loss improved from 326.87990 to 323.43141, saving model to tl_weights_fine_tuned.h5\n",
            "Epoch 26/60\n",
            "247/247 [==============================] - 315s 1s/step - loss: 204.4536 - acc: 0.9143 - val_loss: 331.7767 - val_acc: 0.8897\n",
            "\n",
            "Epoch 00026: val_loss did not improve from 323.43141\n",
            "Epoch 27/60\n",
            "247/247 [==============================] - 313s 1s/step - loss: 202.3833 - acc: 0.9158 - val_loss: 333.5889 - val_acc: 0.8884\n",
            "\n",
            "Epoch 00027: val_loss did not improve from 323.43141\n",
            "Epoch 28/60\n",
            "247/247 [==============================] - 309s 1s/step - loss: 197.2934 - acc: 0.9194 - val_loss: 325.5416 - val_acc: 0.8924\n",
            "\n",
            "Epoch 00028: val_loss did not improve from 323.43141\n",
            "Epoch 29/60\n",
            "247/247 [==============================] - 308s 1s/step - loss: 192.7361 - acc: 0.9162 - val_loss: 301.6638 - val_acc: 0.9003\n",
            "\n",
            "Epoch 00029: val_loss improved from 323.43141 to 301.66384, saving model to tl_weights_fine_tuned.h5\n",
            "Epoch 30/60\n",
            "247/247 [==============================] - 308s 1s/step - loss: 185.1706 - acc: 0.9204 - val_loss: 341.3017 - val_acc: 0.8958\n",
            "\n",
            "Epoch 00030: val_loss did not improve from 301.66384\n",
            "Epoch 31/60\n",
            "247/247 [==============================] - 314s 1s/step - loss: 184.1500 - acc: 0.9209 - val_loss: 319.3096 - val_acc: 0.8935\n",
            "\n",
            "Epoch 00031: val_loss did not improve from 301.66384\n",
            "Epoch 32/60\n",
            "247/247 [==============================] - 313s 1s/step - loss: 183.3611 - acc: 0.9219 - val_loss: 306.9747 - val_acc: 0.8975\n",
            "\n",
            "Epoch 00032: val_loss did not improve from 301.66384\n",
            "Epoch 33/60\n",
            "247/247 [==============================] - 320s 1s/step - loss: 174.8911 - acc: 0.9202 - val_loss: 352.4565 - val_acc: 0.8780\n",
            "\n",
            "Epoch 00033: val_loss did not improve from 301.66384\n",
            "Epoch 34/60\n",
            "247/247 [==============================] - 317s 1s/step - loss: 172.3373 - acc: 0.9256 - val_loss: 326.6278 - val_acc: 0.8978\n",
            "\n",
            "Epoch 00034: val_loss did not improve from 301.66384\n",
            "Epoch 35/60\n",
            "247/247 [==============================] - 317s 1s/step - loss: 169.5294 - acc: 0.9255 - val_loss: 341.6836 - val_acc: 0.9029\n",
            "\n",
            "Epoch 00035: val_loss did not improve from 301.66384\n",
            "Epoch 36/60\n",
            "247/247 [==============================] - 322s 1s/step - loss: 168.8975 - acc: 0.9249 - val_loss: 322.2087 - val_acc: 0.8975\n",
            "\n",
            "Epoch 00036: val_loss did not improve from 301.66384\n",
            "Epoch 37/60\n",
            "247/247 [==============================] - 315s 1s/step - loss: 161.7035 - acc: 0.9241 - val_loss: 339.6205 - val_acc: 0.8991\n",
            "\n",
            "Epoch 00037: val_loss did not improve from 301.66384\n",
            "Epoch 38/60\n",
            "247/247 [==============================] - 320s 1s/step - loss: 159.7933 - acc: 0.9265 - val_loss: 298.1224 - val_acc: 0.8965\n",
            "\n",
            "Epoch 00038: val_loss improved from 301.66384 to 298.12236, saving model to tl_weights_fine_tuned.h5\n",
            "Epoch 39/60\n",
            "247/247 [==============================] - 322s 1s/step - loss: 157.2373 - acc: 0.9270 - val_loss: 338.8496 - val_acc: 0.8973\n",
            "\n",
            "Epoch 00039: val_loss did not improve from 298.12236\n",
            "Epoch 40/60\n",
            "247/247 [==============================] - 318s 1s/step - loss: 156.1233 - acc: 0.9271 - val_loss: 314.0419 - val_acc: 0.9019\n",
            "\n",
            "Epoch 00040: val_loss did not improve from 298.12236\n",
            "Epoch 41/60\n",
            "247/247 [==============================] - 322s 1s/step - loss: 151.7732 - acc: 0.9294 - val_loss: 321.0914 - val_acc: 0.8932\n",
            "\n",
            "Epoch 00041: val_loss did not improve from 298.12236\n",
            "Epoch 42/60\n",
            "247/247 [==============================] - 317s 1s/step - loss: 155.4899 - acc: 0.9279 - val_loss: 333.5634 - val_acc: 0.9031\n",
            "\n",
            "Epoch 00042: val_loss did not improve from 298.12236\n",
            "Epoch 43/60\n",
            "247/247 [==============================] - 321s 1s/step - loss: 146.9106 - acc: 0.9313 - val_loss: 309.1737 - val_acc: 0.9021\n",
            "\n",
            "Epoch 00043: val_loss did not improve from 298.12236\n",
            "Epoch 44/60\n",
            "247/247 [==============================] - 320s 1s/step - loss: 142.4891 - acc: 0.9319 - val_loss: 325.6823 - val_acc: 0.8897\n",
            "\n",
            "Epoch 00044: val_loss did not improve from 298.12236\n",
            "Epoch 45/60\n",
            "247/247 [==============================] - 320s 1s/step - loss: 145.7797 - acc: 0.9305 - val_loss: 309.0277 - val_acc: 0.9003\n",
            "\n",
            "Epoch 00045: val_loss did not improve from 298.12236\n",
            "Epoch 46/60\n",
            "247/247 [==============================] - 321s 1s/step - loss: 141.1826 - acc: 0.9316 - val_loss: 320.6027 - val_acc: 0.9031\n",
            "\n",
            "Epoch 00046: val_loss did not improve from 298.12236\n",
            "Epoch 47/60\n",
            "247/247 [==============================] - 319s 1s/step - loss: 140.0113 - acc: 0.9329 - val_loss: 314.3494 - val_acc: 0.9011\n",
            "\n",
            "Epoch 00047: val_loss did not improve from 298.12236\n",
            "Epoch 48/60\n",
            "247/247 [==============================] - 321s 1s/step - loss: 140.5294 - acc: 0.9336 - val_loss: 311.2528 - val_acc: 0.9011\n",
            "\n",
            "Epoch 00048: val_loss did not improve from 298.12236\n",
            "Epoch 49/60\n",
            "247/247 [==============================] - 320s 1s/step - loss: 138.1762 - acc: 0.9307 - val_loss: 317.1104 - val_acc: 0.8983\n",
            "\n",
            "Epoch 00049: val_loss did not improve from 298.12236\n",
            "Epoch 50/60\n",
            "247/247 [==============================] - 317s 1s/step - loss: 137.4965 - acc: 0.9355 - val_loss: 309.7478 - val_acc: 0.9044\n",
            "\n",
            "Epoch 00050: val_loss did not improve from 298.12236\n",
            "Epoch 51/60\n",
            "247/247 [==============================] - 321s 1s/step - loss: 135.0661 - acc: 0.9359 - val_loss: 307.4102 - val_acc: 0.9044\n",
            "\n",
            "Epoch 00051: val_loss did not improve from 298.12236\n",
            "Epoch 52/60\n",
            "247/247 [==============================] - 322s 1s/step - loss: 133.1574 - acc: 0.9392 - val_loss: 312.8288 - val_acc: 0.9059\n",
            "\n",
            "Epoch 00052: val_loss did not improve from 298.12236\n",
            "Epoch 53/60\n",
            "247/247 [==============================] - 322s 1s/step - loss: 132.7914 - acc: 0.9342 - val_loss: 325.6862 - val_acc: 0.8998\n",
            "\n",
            "Epoch 00053: val_loss did not improve from 298.12236\n",
            "Epoch 00053: early stopping\n"
          ],
          "name": "stdout"
        },
        {
          "output_type": "error",
          "ename": "NameError",
          "evalue": "ignored",
          "traceback": [
            "\u001b[0;31m---------------------------------------------------------------------------\u001b[0m",
            "\u001b[0;31mNameError\u001b[0m                                 Traceback (most recent call last)",
            "\u001b[0;32m<ipython-input-7-a97df441d9ce>\u001b[0m in \u001b[0;36m<module>\u001b[0;34m()\u001b[0m\n\u001b[1;32m     14\u001b[0m )\n\u001b[1;32m     15\u001b[0m \u001b[0;34m\u001b[0m\u001b[0m\n\u001b[0;32m---> 16\u001b[0;31m \u001b[0maux_module\u001b[0m\u001b[0;34m.\u001b[0m\u001b[0mplot_results\u001b[0m\u001b[0;34m(\u001b[0m\u001b[0mhistory\u001b[0m\u001b[0;34m)\u001b[0m\u001b[0;34m\u001b[0m\u001b[0;34m\u001b[0m\u001b[0m\n\u001b[0m",
            "\u001b[0;31mNameError\u001b[0m: name 'history' is not defined"
          ]
        }
      ]
    },
    {
      "cell_type": "code",
      "metadata": {
        "id": "Fgeze-20jH9x",
        "colab_type": "code",
        "outputId": "0b6716dd-ea33-4942-917e-c758045a6e3e",
        "colab": {
          "base_uri": "https://localhost:8080/",
          "height": 574
        }
      },
      "source": [
        "aux_module.plot_results(new_history)"
      ],
      "execution_count": 0,
      "outputs": [
        {
          "output_type": "display_data",
          "data": {
            "image/png": "[encoded data removed]",
            "text/plain": [
              "<Figure size 432x288 with 1 Axes>"
            ]
          },
          "metadata": {
            "tags": []
          }
        },
        {
          "output_type": "display_data",
          "data": {
            "image/png": "[encoded data removed]",
            "text/plain": [
              "<Figure size 432x288 with 1 Axes>"
            ]
          },
          "metadata": {
            "tags": []
          }
        }
      ]
    }
  ]
}